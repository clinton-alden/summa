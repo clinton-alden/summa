{
 "cells": [
  {
   "cell_type": "code",
   "execution_count": 28,
   "metadata": {},
   "outputs": [],
   "source": [
    "import pandas as pd\n",
    "import numpy as np\n",
    "import matplotlib.pyplot as plt\n",
    "import xarray as xr"
   ]
  },
  {
   "cell_type": "code",
   "execution_count": 29,
   "metadata": {},
   "outputs": [
    {
     "name": "stdout",
     "output_type": "stream",
     "text": [
      "00\n"
     ]
    }
   ],
   "source": [
    "# Set water year\n",
    "# water_year = 21\n",
    "water_year = input('Enter the water year(ie. \"19\" for 2019): ')\n",
    "if water_year == '00':\n",
    "    start_year = '99'\n",
    "elif 0 < int(water_year) <= 10:\n",
    "    start_year = '0' + str(int(water_year) - 1)\n",
    "else:\n",
    "    start_year = str(int(water_year) - 1)\n",
    "print(start_year)"
   ]
  },
  {
   "cell_type": "code",
   "execution_count": 30,
   "metadata": {},
   "outputs": [],
   "source": [
    "salmon = xr.open_dataset(f'/Users/clintonalden/Documents/Research/summa_work/model/output/salmon_meadows/output_salmon_WY{water_year}_timestep.nc')\n",
    "salmon2K = xr.open_dataset(f'/Users/clintonalden/Documents/Research/summa_work/model/output/salmon_meadows/output_salmon_+2K_WY{water_year}_timestep.nc')\n",
    "\n",
    "depth = salmon.isel(hru=0)['iLayerHeight']\n",
    "temp = salmon.isel(hru=0)['mLayerTemp']\n",
    "frac_wat = salmon.isel(hru=0)['mLayerVolFracWat']\n",
    "\n",
    "depth = -depth"
   ]
  },
  {
   "cell_type": "code",
   "execution_count": 31,
   "metadata": {},
   "outputs": [],
   "source": [
    "depth = salmon.isel(hru=0)['iLayerHeight']\n",
    "temp = salmon.isel(hru=0)['mLayerTemp']\n",
    "frac_wat = salmon.isel(hru=0)['mLayerVolFracWat']\n",
    "\n",
    "depth = -depth\n",
    "bins = np.arange(0, depth.ifcToto.max() + 11, 10)/100  # Define your bins\n",
    "thick = depth.values\n",
    "results = []\n",
    "\n",
    "\n",
    "for i in range(thick.shape[1]):\n",
    "    dif_matrix = np.subtract.outer(thick[:,i], bins)\n",
    "    idx = np.abs(dif_matrix).argmin(axis=1)\n",
    "    results.append(bins[idx])\n",
    "    \n",
    "new_da = xr.DataArray(results[:-1], dims=['midToto', 'time'], name='layer_bins')\n",
    "merged_ds = xr.merge([new_da,frac_wat])\n",
    "\n",
    "slice_ds = merged_ds.sel(time=slice(f'20{start_year}-11-01', f'20{water_year}-06-01'))\n",
    "\n",
    "binned_times = []\n",
    "for time in slice_ds.time:\n",
    "    temp_ds = slice_ds.sel(time=time).groupby_bins(group='layer_bins', bins=bins).mean()\n",
    "    temp_ds = temp_ds.assign_coords(time=time)\n",
    "    binned_times.append(temp_ds)\n",
    "\n",
    "con_da = xr.concat(binned_times, dim='time').mLayerVolFracWat\n",
    "\n",
    "con_da = con_da.where(con_da != -9999, np.nan)\n",
    "con_da = con_da.where(con_da != 9999, np.nan)*1000"
   ]
  },
  {
   "cell_type": "code",
   "execution_count": 32,
   "metadata": {},
   "outputs": [],
   "source": [
    "den_0_10 = []\n",
    "den_10_20 = []\n",
    "den_20_30 = []\n",
    "\n",
    "for i in con_da.time:\n",
    "    array = con_da.sel(time=i).values\n",
    "    array = array[~np.isnan(array)]\n",
    "    array[array < 0] = np.nan\n",
    "\n",
    "    if len(array) == 0:\n",
    "        den_0_10.append(np.nan)\n",
    "        den_10_20.append(np.nan)\n",
    "        den_20_30.append(np.nan)\n",
    "\n",
    "    if len(array) == 1:\n",
    "        den_0_10.append(array[-1])\n",
    "        den_10_20.append(np.nan)\n",
    "        den_20_30.append(np.nan)\n",
    "\n",
    "    if len(array) == 2:\n",
    "        den_0_10.append(array[-1])\n",
    "        den_10_20.append(array[-2])\n",
    "        den_20_30.append(np.nan)\n",
    "\n",
    "    if len(array) >= 3:\n",
    "        den_0_10.append(array[-1])\n",
    "        den_10_20.append(array[-2])\n",
    "        den_20_30.append(array[-3])\n"
   ]
  },
  {
   "cell_type": "markdown",
   "metadata": {},
   "source": [
    "## Do the same as above but for the run with +2K for salmon meadows"
   ]
  },
  {
   "cell_type": "code",
   "execution_count": 33,
   "metadata": {},
   "outputs": [],
   "source": [
    "depth = salmon2K.isel(hru=0)['iLayerHeight']\n",
    "temp = salmon2K.isel(hru=0)['mLayerTemp']\n",
    "frac_wat = salmon2K.isel(hru=0)['mLayerVolFracWat']\n",
    "\n",
    "depth = -depth\n",
    "bins = np.arange(0, depth.ifcToto.max() + 10, 10)/100  # Define your bins\n",
    "thick = depth.values\n",
    "results = []\n",
    "\n",
    "\n",
    "for i in range(thick.shape[1]):\n",
    "    dif_matrix = np.subtract.outer(thick[:,i], bins)\n",
    "    idx = np.abs(dif_matrix).argmin(axis=1)\n",
    "    results.append(bins[idx])\n",
    "    \n",
    "new_da = xr.DataArray(results[:-1], dims=['midToto', 'time'], name='layer_bins')\n",
    "merged_ds = xr.merge([new_da,frac_wat])\n",
    "\n",
    "slice_ds = merged_ds.sel(time=slice(f'20{start_year}-11-01', f'20{water_year}-06-01'))\n",
    "\n",
    "binned_times = []\n",
    "for time in slice_ds.time:\n",
    "    temp_ds = slice_ds.sel(time=time).groupby_bins(group='layer_bins', bins=bins).mean()\n",
    "    temp_ds = temp_ds.assign_coords(time=time)\n",
    "    binned_times.append(temp_ds)\n",
    "\n",
    "con_da = xr.concat(binned_times, dim='time').mLayerVolFracWat\n",
    "\n",
    "con_da = con_da.where(con_da != -9999, np.nan)\n",
    "con_da = con_da.where(con_da != 9999, np.nan)*1000"
   ]
  },
  {
   "cell_type": "code",
   "execution_count": 34,
   "metadata": {},
   "outputs": [],
   "source": [
    "warm_den_0_10 = []\n",
    "warm_den_10_20 = []\n",
    "warm_den_20_30 = []\n",
    "\n",
    "for i in con_da.time:\n",
    "    array = con_da.sel(time=i).values\n",
    "    array = array[~np.isnan(array)]\n",
    "    array[array < 0] = np.nan\n",
    "\n",
    "    if len(array) == 0:\n",
    "        warm_den_0_10.append(np.nan)\n",
    "        warm_den_10_20.append(np.nan)\n",
    "        warm_den_20_30.append(np.nan)\n",
    "\n",
    "    if len(array) == 1:\n",
    "        warm_den_0_10.append(array[-1])\n",
    "        warm_den_10_20.append(np.nan)\n",
    "        warm_den_20_30.append(np.nan)\n",
    "\n",
    "    if len(array) == 2:\n",
    "        warm_den_0_10.append(array[-1])\n",
    "        warm_den_10_20.append(array[-2])\n",
    "        warm_den_20_30.append(np.nan)\n",
    "\n",
    "    if len(array) >= 3:\n",
    "        warm_den_0_10.append(array[-1])\n",
    "        warm_den_10_20.append(array[-2])\n",
    "        warm_den_20_30.append(array[-3])"
   ]
  },
  {
   "cell_type": "code",
   "execution_count": 35,
   "metadata": {},
   "outputs": [],
   "source": [
    "dif_0_10 = np.array(warm_den_0_10) - np.array(den_0_10)\n",
    "dif_10_20 = np.array(warm_den_10_20) - np.array(den_10_20)\n",
    "dif_20_30 = np.array(warm_den_20_30) - np.array(den_20_30)"
   ]
  },
  {
   "cell_type": "markdown",
   "metadata": {},
   "source": [
    "## Plot differences for combined top 30cm"
   ]
  },
  {
   "cell_type": "code",
   "execution_count": 36,
   "metadata": {},
   "outputs": [
    {
     "name": "stderr",
     "output_type": "stream",
     "text": [
      "/var/folders/db/7c91t8d577n1zsyhth1xc7840000gn/T/ipykernel_96194/1944790864.py:5: RuntimeWarning: Mean of empty slice\n",
      "  den_0_30 = np.nanmean(stack_den_30, axis=0)\n",
      "/var/folders/db/7c91t8d577n1zsyhth1xc7840000gn/T/ipykernel_96194/1944790864.py:6: RuntimeWarning: Mean of empty slice\n",
      "  warm_den_0_30 = np.nanmean(warm_stack_den_30, axis=0)\n"
     ]
    }
   ],
   "source": [
    "stack_den_30 = np.vstack((den_0_10, den_10_20, den_20_30))\n",
    "warm_stack_den_30 = np.vstack((warm_den_0_10, warm_den_10_20, warm_den_20_30))\n",
    "\n",
    "# Compute the mean along the vertical axis, ignoring NaNs\n",
    "den_0_30 = np.nanmean(stack_den_30, axis=0)\n",
    "warm_den_0_30 = np.nanmean(warm_stack_den_30, axis=0)"
   ]
  },
  {
   "cell_type": "code",
   "execution_count": 41,
   "metadata": {},
   "outputs": [],
   "source": [
    "plt.rcParams['font.family'] = 'monospace'\n",
    "\n",
    "fig, ax = plt.subplots(3, 1, figsize=(10, 9), sharex=True)\n",
    "\n",
    "ax[0].plot(con_da.time, den_0_30, label='Control', color='blue')\n",
    "ax[0].set_ylabel('Density [kg/m^3]')\n",
    "ax[0].set_title(f'Salmon Meadows WY{water_year} Top 30cm Density')\n",
    "ax[0].legend()\n",
    "\n",
    "\n",
    "ax[1].plot(con_da.time, warm_den_0_30, label='+2K', color='red')\n",
    "ax[1].set_ylabel('Density [kg/m^3]')\n",
    "ax[1].legend()\n",
    "\n",
    "dif_0_30 = warm_den_0_30 - den_0_30\n",
    "avg_dif = np.round(np.nanmean(dif_0_30), 1)\n",
    "ax[2].plot(con_da.time, dif_0_30, label=f'Difference\\nMean Difference = {avg_dif} $kg~m^{-3}$', color='green')\n",
    "ax[2].axhline(0, color='gray')\n",
    "ax[2].set_ylabel('Density Difference [kg/m^3]')\n",
    "ax[2].text(con_da.time[2000], -50, \n",
    "        'positive values: warmed run is higher density\\nnegative values: warmed run is lower density', \n",
    "        color='black', bbox={'facecolor': 'whitesmoke', 'alpha': 0.5, 'pad': 5})\n",
    "ax[2].legend( loc='upper left')\n",
    "\n",
    "plt.savefig(f'/Users/clintonalden/Documents/Research/summa_work/analysis/salmon_meadows/plots/density_dif_salmon_WY{water_year}.png', dpi=300)\n",
    "plt.close()"
   ]
  },
  {
   "cell_type": "markdown",
   "metadata": {},
   "source": [
    "## Plot the time spent in the danger zone"
   ]
  },
  {
   "cell_type": "code",
   "execution_count": 52,
   "metadata": {},
   "outputs": [],
   "source": [
    "# Create masks for the conditions for den_0_30\n",
    "mask_below_200 = den_0_30 < 200\n",
    "mask_between_200_300 = (den_0_30 >= 200) & (den_0_30 <= 300)\n",
    "mask_above_300 = den_0_30 > 300\n",
    "\n",
    "# Compute the cumulative sums of the number of True values in the masks for den_0_30\n",
    "cumsum_below_200 = np.cumsum(mask_below_200)/24\n",
    "count_b200 = np.round(cumsum_below_200[-1], 1)\n",
    "cumsum_between_200_300 = np.cumsum(mask_between_200_300)/24\n",
    "count_200_300 = np.round(cumsum_between_200_300[-1], 1)\n",
    "cumsum_above_300 = np.cumsum(mask_above_300)/24\n",
    "count_a300 = np.round(cumsum_above_300[-1], 1)\n",
    "\n",
    "# Create masks for the conditions for warm_den_0_30\n",
    "warm_mask_below_200 = warm_den_0_30 < 200\n",
    "warm_mask_between_200_300 = (warm_den_0_30 >= 200) & (warm_den_0_30 <= 300)\n",
    "warm_mask_above_300 = warm_den_0_30 > 300\n",
    "\n",
    "# Compute the cumulative sums of the number of True values in the masks for warm_den_0_30\n",
    "warm_cumsum_below_200 = np.cumsum(warm_mask_below_200)/24\n",
    "warm_count_b200 = np.round(warm_cumsum_below_200[-1], 1)\n",
    "warm_cumsum_between_200_300 = np.cumsum(warm_mask_between_200_300)/24\n",
    "warm_count_200_300 = np.round(warm_cumsum_between_200_300[-1], 1)\n",
    "warm_cumsum_above_300 = np.cumsum(warm_mask_above_300)/24\n",
    "warm_count_a300 = np.round(warm_cumsum_above_300[-1], 1)\n",
    "\n",
    "# Create a figure with two subplots\n",
    "fig, axs = plt.subplots(2, figsize=(10, 6))\n",
    "\n",
    "# Plot the cumulative sums for den_0_30\n",
    "axs[0].plot(con_da.time, cumsum_below_200, \n",
    "            label=f'Below 200 $kg \\\\ \\\\ m^{-3}$\\n{count_b200} total days',  color='green', ls='--')\n",
    "axs[0].plot(con_da.time, cumsum_between_200_300, \n",
    "            label=f'200-300 $kg \\\\ \\\\ m^{-3}$\\n{count_200_300} total days', color='red', ls='--', lw=3)\n",
    "axs[0].plot(con_da.time, cumsum_above_300, \n",
    "            label=f'Above 300 $kg \\\\ \\\\ m^{-3}$\\n{count_a300} total days', color='blue', ls='--')\n",
    "axs[0].set_ylim(0,120)\n",
    "axs[0].legend()\n",
    "axs[0].set_title(f'Salmon Meadows WY{water_year} Top 30cm Density')\n",
    "axs[0].set_ylabel('Cumulative Days')\n",
    "\n",
    "# Plot the cumulative sums for warm_den_0_30\n",
    "axs[1].plot(con_da.time, warm_cumsum_below_200, \n",
    "            label=f'Below 200 $kg \\\\ \\\\ m^{-3}$\\n{warm_count_b200} total days', color='green', ls='--')\n",
    "axs[1].plot(con_da.time, warm_cumsum_between_200_300, \n",
    "            label=f'200-300 $kg \\\\ \\\\ m^{-3}$\\n{warm_count_200_300} total days', color='red', ls='--', lw=3)\n",
    "axs[1].plot(con_da.time, warm_cumsum_above_300, \n",
    "            label=f'Above 300 $kg~m^{-3}$\\n{warm_count_a300} total days', color='blue', ls='--')\n",
    "axs[1].legend()\n",
    "axs[1].set_ylim(0,120)\n",
    "axs[1].set_title(f'Salmon Meadows WY{water_year} +2K Top 30cm Density')\n",
    "axs[1].set_ylabel('Cumulative Days')\n",
    "\n",
    "plt.tight_layout()\n",
    "plt.savefig(f'/Users/clintonalden/Documents/Research/summa_work/analysis/salmon_meadows/plots/dangerdays_salmon_WY{water_year}.png', dpi=300)\n",
    "\n",
    "# plt.show()\n",
    "plt.close()"
   ]
  },
  {
   "cell_type": "markdown",
   "metadata": {},
   "source": [
    "## Histogram of top 30cm densities"
   ]
  },
  {
   "cell_type": "code",
   "execution_count": 39,
   "metadata": {},
   "outputs": [],
   "source": [
    "fig, ax = plt.subplots(2, 1, figsize=(8, 8), sharex=True)\n",
    "\n",
    "ax[0].hist(den_0_30, bins=50, color='blue', alpha=0.5, label='Control', ec='black')\n",
    "ax[0].set_title(f'Salmon Meadows WY{water_year} Top 30cm Density')\n",
    "ax[0].set_ylabel('Frequency [hours]')\n",
    "\n",
    "\n",
    "ax[1].hist(warm_den_0_30, bins=50, color='red', alpha=0.5, label='+2K', ec='black')\n",
    "ax[1].set_title(f'Salmon Meadows WY{water_year} +2K Top 30cm Density')\n",
    "ax[1].set_xlabel('Density [kg/m^3]')\n",
    "ax[1].set_ylabel('Frequency [hours]')\n",
    "\n",
    "plt.savefig(f'/Users/clintonalden/Documents/Research/summa_work/analysis/salmon_meadows/plots/density_hist_salmon_WY{water_year}.png', dpi=300)\n",
    "plt.close()"
   ]
  },
  {
   "cell_type": "code",
   "execution_count": null,
   "metadata": {},
   "outputs": [],
   "source": []
  }
 ],
 "metadata": {
  "kernelspec": {
   "display_name": "env1",
   "language": "python",
   "name": "python3"
  },
  "language_info": {
   "codemirror_mode": {
    "name": "ipython",
    "version": 3
   },
   "file_extension": ".py",
   "mimetype": "text/x-python",
   "name": "python",
   "nbconvert_exporter": "python",
   "pygments_lexer": "ipython3",
   "version": "3.12.2"
  }
 },
 "nbformat": 4,
 "nbformat_minor": 2
}
