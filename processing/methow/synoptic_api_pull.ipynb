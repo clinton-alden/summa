{
 "cells": [
  {
   "cell_type": "code",
   "execution_count": 63,
   "metadata": {},
   "outputs": [],
   "source": [
    "import pandas as pd\n",
    "import numpy as np\n",
    "import matplotlib.pyplot as plt\n",
    "from datetime import datetime\n",
    "from metsim import MetSim\n",
    "import xarray as xr\n",
    "\n",
    "from synoptic.services import stations_timeseries\n",
    "from synoptic.services import stations_nearesttime, stations_latest"
   ]
  },
  {
   "cell_type": "code",
   "execution_count": 50,
   "metadata": {},
   "outputs": [
    {
     "name": "stdout",
     "output_type": "stream",
     "text": [
      "\n",
      " 🚚💨 Speedy Delivery from Synoptic API [timeseries]: https://api.synopticdata.com/v2/stations/timeseries?stid=samw1&vars=air_temp,precip_accum,snow_water_equiv&start=202307010000&end=202404010000&token=🙈HIDDEN\n",
      "\n"
     ]
    }
   ],
   "source": [
    "# To keep things tidy, put the function params in the params variable\n",
    "params = dict(\n",
    "    stid=\"samw1\",\n",
    "    vars=[\"air_temp\", \"precip_accum\", 'snow_water_equiv'],\n",
    "    start=datetime(2023, 7, 1),\n",
    "    end=datetime(2024, 4, 1),\n",
    ")\n",
    "\n",
    "a = stations_timeseries(verbose=\"HIDE\", **params)"
   ]
  },
  {
   "cell_type": "code",
   "execution_count": 51,
   "metadata": {},
   "outputs": [],
   "source": [
    "from pytz import UTC\n",
    "# Interpolate the missing values\n",
    "a.interpolate(inplace=True)\n",
    "\n",
    "# Seperate the data into two dataframes, before and after October 1\n",
    "a1 = a.loc[datetime(2023, 7, 3).replace(tzinfo=UTC):datetime(2023, 10, 1).replace(tzinfo=UTC)]\n",
    "a2 = a.loc[datetime(2023, 10, 1).replace(tzinfo=UTC):]\n",
    "\n",
    "\n",
    "\n",
    "\n"
   ]
  },
  {
   "cell_type": "code",
   "execution_count": 55,
   "metadata": {},
   "outputs": [],
   "source": [
    "# Copy the dataframe a2 to a2_copy\n",
    "a2_copy = a2.copy()\n",
    "\n",
    "# Create a mask to identify rows where the index is less than or equal to October 2, 2023\n",
    "mask = a2_copy.index <= datetime(2023, 10, 2).replace(tzinfo=UTC)\n",
    "\n",
    "# Set the 'precip_accum' column to 0 for rows that satisfy the mask condition\n",
    "a2_copy.loc[mask, 'precip_accum'] = 0\n",
    "\n",
    "# Update the value of a2 to the modified copy\n",
    "a2 = a2_copy\n",
    "\n",
    "# Calculate the difference between the maximum value of 'precip_accum' and the previous value\n",
    "a2['precip_accum'] = a2['precip_accum'].cummax().diff()\n"
   ]
  },
  {
   "cell_type": "markdown",
   "metadata": {},
   "source": [
    "## Generate SW from MetSim"
   ]
  },
  {
   "cell_type": "code",
   "execution_count": 66,
   "metadata": {},
   "outputs": [],
   "source": [
    "dates = pd.date_range('10/1/2023', '4/1/2024')\n",
    "shape = (len(dates), 1, 1, )\n",
    "dims = ('time', 'lat', 'lon', )\n",
    "\n",
    "# We are running only one site, at these coordinates\n",
    "lats = [a1.attrs['latitude']]\n",
    "lons = [a1.attrs['longitude']]\n",
    "elev = [a1.attrs['ELEVATION']/3.281] # meters\n",
    "coords = {'time': dates, 'lat': lats, 'lon': lons}\n",
    "\n",
    "# Create the initial met data input data structure\n",
    "met_data = xr.Dataset(coords=coords)\n",
    "\n",
    "# Initialize data array with needed variables\n",
    "for varname in ['prec', 't_min', 't_max']:\n",
    "    met_data[varname] = xr.DataArray(data=np.full(shape, np.nan),\n",
    "                                     coords=coords, dims=dims,\n",
    "                                     name=varname)"
   ]
  },
  {
   "cell_type": "code",
   "execution_count": 61,
   "metadata": {},
   "outputs": [
    {
     "name": "stdout",
     "output_type": "stream",
     "text": [
      "-119.8383\n"
     ]
    }
   ],
   "source": [
    "# data = pd.read_csv('./salmon_cleaned_WY23.csv')\n",
    "# data = data[data['Date_Time'] < '2023-09-01'] \n",
    "# data['air_temp_set_1'] = data['air_temp_set_1'].interpolate(method='linear')\n",
    "# data['precip_accum_set_1'] = data['precip_accum_set_1'].interpolate(method='linear')\n",
    "# data.loc[data['precip_accum_set_1'] > 1100, 'precip_accum_set_1'] = 0\n",
    "\n",
    "# data['time'] = pd.to_datetime(data.time)\n",
    "\n",
    "# data['precip_accum_set_1'] = data['precip_accum_set_1'].cummax()\n",
    "\n",
    "# Set the 'datetime' column as the index of the dataframe\n",
    "# data.set_index('time', inplace=True)\n",
    "\n",
    "prec_vals = a2['accppt'].resample('D').sum()\n",
    "print(prec_vals.max())\n",
    "\n",
    "# Resample the data to daily frequency and calculate the maximum and minimum temperatures\n",
    "tmax_vals = data['airtemp'].resample('D').max()\n",
    "tmin_vals = data['airtemp'].resample('D').min()\n",
    "\n",
    "# Interpolate the temperature values to fill in any missing days\n",
    "tmax_vals = tmax_vals.interpolate(method='linear')\n",
    "tmin_vals = tmin_vals.interpolate(method='linear')\n",
    "\n",
    "met_data['prec'].values[:, 0, 0] = prec_vals\n",
    "\n",
    "# Assign the daily maximum and minimum temperatures to the met_data xarray, converting to Celsius\n",
    "met_data['t_min'].values[:, 0, 0] = tmin_vals - 273.15\n",
    "met_data['t_max'].values[:, 0, 0] = tmax_vals - 273.15\n",
    "\n",
    "# met_data.to_netcdf('./input/rc_forcing.nc')\n",
    "met_data"
   ]
  },
  {
   "cell_type": "code",
   "execution_count": 67,
   "metadata": {},
   "outputs": [
    {
     "data": {
      "text/html": [
       "<div>\n",
       "<style scoped>\n",
       "    .dataframe tbody tr th:only-of-type {\n",
       "        vertical-align: middle;\n",
       "    }\n",
       "\n",
       "    .dataframe tbody tr th {\n",
       "        vertical-align: top;\n",
       "    }\n",
       "\n",
       "    .dataframe thead th {\n",
       "        text-align: right;\n",
       "    }\n",
       "</style>\n",
       "<table border=\"1\" class=\"dataframe\">\n",
       "  <thead>\n",
       "    <tr style=\"text-align: right;\">\n",
       "      <th></th>\n",
       "      <th>air_temp</th>\n",
       "      <th>precip_accum</th>\n",
       "      <th>snow_water_equiv</th>\n",
       "    </tr>\n",
       "    <tr>\n",
       "      <th>date_time</th>\n",
       "      <th></th>\n",
       "      <th></th>\n",
       "      <th></th>\n",
       "    </tr>\n",
       "  </thead>\n",
       "  <tbody>\n",
       "    <tr>\n",
       "      <th>2023-10-01 00:00:00+00:00</th>\n",
       "      <td>9.4</td>\n",
       "      <td>NaN</td>\n",
       "      <td>5.08</td>\n",
       "    </tr>\n",
       "    <tr>\n",
       "      <th>2023-10-01 01:00:00+00:00</th>\n",
       "      <td>7.8</td>\n",
       "      <td>0.0</td>\n",
       "      <td>5.08</td>\n",
       "    </tr>\n",
       "    <tr>\n",
       "      <th>2023-10-01 02:00:00+00:00</th>\n",
       "      <td>4.9</td>\n",
       "      <td>0.0</td>\n",
       "      <td>5.08</td>\n",
       "    </tr>\n",
       "    <tr>\n",
       "      <th>2023-10-01 03:00:00+00:00</th>\n",
       "      <td>6.1</td>\n",
       "      <td>0.0</td>\n",
       "      <td>5.08</td>\n",
       "    </tr>\n",
       "    <tr>\n",
       "      <th>2023-10-01 04:00:00+00:00</th>\n",
       "      <td>5.8</td>\n",
       "      <td>0.0</td>\n",
       "      <td>5.08</td>\n",
       "    </tr>\n",
       "    <tr>\n",
       "      <th>...</th>\n",
       "      <td>...</td>\n",
       "      <td>...</td>\n",
       "      <td>...</td>\n",
       "    </tr>\n",
       "    <tr>\n",
       "      <th>2024-03-31 20:00:00+00:00</th>\n",
       "      <td>6.4</td>\n",
       "      <td>0.0</td>\n",
       "      <td>170.18</td>\n",
       "    </tr>\n",
       "    <tr>\n",
       "      <th>2024-03-31 21:00:00+00:00</th>\n",
       "      <td>7.6</td>\n",
       "      <td>0.0</td>\n",
       "      <td>167.64</td>\n",
       "    </tr>\n",
       "    <tr>\n",
       "      <th>2024-03-31 22:00:00+00:00</th>\n",
       "      <td>9.1</td>\n",
       "      <td>0.0</td>\n",
       "      <td>167.64</td>\n",
       "    </tr>\n",
       "    <tr>\n",
       "      <th>2024-03-31 23:00:00+00:00</th>\n",
       "      <td>9.8</td>\n",
       "      <td>0.0</td>\n",
       "      <td>167.64</td>\n",
       "    </tr>\n",
       "    <tr>\n",
       "      <th>2024-04-01 00:00:00+00:00</th>\n",
       "      <td>7.8</td>\n",
       "      <td>0.0</td>\n",
       "      <td>167.64</td>\n",
       "    </tr>\n",
       "  </tbody>\n",
       "</table>\n",
       "<p>4389 rows × 3 columns</p>\n",
       "</div>"
      ],
      "text/plain": [
       "                           air_temp  precip_accum  snow_water_equiv\n",
       "date_time                                                          \n",
       "2023-10-01 00:00:00+00:00       9.4           NaN              5.08\n",
       "2023-10-01 01:00:00+00:00       7.8           0.0              5.08\n",
       "2023-10-01 02:00:00+00:00       4.9           0.0              5.08\n",
       "2023-10-01 03:00:00+00:00       6.1           0.0              5.08\n",
       "2023-10-01 04:00:00+00:00       5.8           0.0              5.08\n",
       "...                             ...           ...               ...\n",
       "2024-03-31 20:00:00+00:00       6.4           0.0            170.18\n",
       "2024-03-31 21:00:00+00:00       7.6           0.0            167.64\n",
       "2024-03-31 22:00:00+00:00       9.1           0.0            167.64\n",
       "2024-03-31 23:00:00+00:00       9.8           0.0            167.64\n",
       "2024-04-01 00:00:00+00:00       7.8           0.0            167.64\n",
       "\n",
       "[4389 rows x 3 columns]"
      ]
     },
     "execution_count": 67,
     "metadata": {},
     "output_type": "execute_result"
    }
   ],
   "source": [
    "a2"
   ]
  },
  {
   "cell_type": "code",
   "execution_count": null,
   "metadata": {},
   "outputs": [],
   "source": []
  }
 ],
 "metadata": {
  "kernelspec": {
   "display_name": "env1",
   "language": "python",
   "name": "python3"
  },
  "language_info": {
   "codemirror_mode": {
    "name": "ipython",
    "version": 3
   },
   "file_extension": ".py",
   "mimetype": "text/x-python",
   "name": "python",
   "nbconvert_exporter": "python",
   "pygments_lexer": "ipython3",
   "version": "3.12.2"
  }
 },
 "nbformat": 4,
 "nbformat_minor": 2
}
