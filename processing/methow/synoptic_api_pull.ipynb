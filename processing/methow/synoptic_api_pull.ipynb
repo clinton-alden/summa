{
 "cells": [
  {
   "cell_type": "code",
   "execution_count": 1,
   "metadata": {},
   "outputs": [
    {
     "name": "stderr",
     "output_type": "stream",
     "text": [
      "/Users/clintonalden/miniconda3/envs/env1/lib/python3.12/site-packages/synoptic/accessors.py:28: UserWarning: map making not available without Brian's cartopy_tools\n",
      "  warnings.warn(\"map making not available without Brian's cartopy_tools\")\n"
     ]
    }
   ],
   "source": [
    "import pandas as pd\n",
    "import numpy as np\n",
    "import matplotlib.pyplot as plt\n",
    "from datetime import datetime\n",
    "from metsim import MetSim\n",
    "import xarray as xr\n",
    "import metloom\n",
    "\n",
    "from synoptic.services import stations_timeseries\n",
    "from synoptic.services import stations_nearesttime, stations_latest"
   ]
  },
  {
   "cell_type": "code",
   "execution_count": 2,
   "metadata": {},
   "outputs": [
    {
     "name": "stdout",
     "output_type": "stream",
     "text": [
      "\n",
      " 🚚💨 Speedy Delivery from Synoptic API [timeseries]: https://api.synopticdata.com/v2/stations/timeseries?stid=samw1&vars=air_temp,precip_accum,snow_water_equiv&start=202307010000&end=202404010000&token=🙈HIDDEN\n",
      "\n"
     ]
    }
   ],
   "source": [
    "# To keep things tidy, put the function params in the params variable\n",
    "params = dict(\n",
    "    stid=\"samw1\",\n",
    "    vars=[\"air_temp\", \"precip_accum\", 'snow_water_equiv'],\n",
    "    start=datetime(2023, 7, 1),\n",
    "    end=datetime(2024, 4, 1),\n",
    ")\n",
    "\n",
    "a = stations_timeseries(verbose=\"HIDE\", **params)"
   ]
  },
  {
   "cell_type": "code",
   "execution_count": 3,
   "metadata": {},
   "outputs": [],
   "source": [
    "from pytz import UTC\n",
    "# Interpolate the missing values\n",
    "a.interpolate(inplace=True)\n",
    "\n",
    "# Seperate the data into two dataframes, before and after October 1\n",
    "a1 = a.loc[datetime(2023, 7, 3).replace(tzinfo=UTC):datetime(2023, 10, 1).replace(tzinfo=UTC)]\n",
    "a2 = a.loc[datetime(2023, 10, 1).replace(tzinfo=UTC):]\n",
    "\n",
    "\n",
    "\n",
    "\n"
   ]
  },
  {
   "cell_type": "code",
   "execution_count": 5,
   "metadata": {},
   "outputs": [],
   "source": [
    "# Copy the dataframe a2 to a2_copy\n",
    "a2_copy = a2.copy()\n",
    "\n",
    "# Create a mask to identify rows where the index is less than or equal to October 2, 2023\n",
    "mask = a2_copy.index <= datetime(2023, 10, 2).replace(tzinfo=UTC)\n",
    "\n",
    "# Set the 'precip_accum' column to 0 for rows that satisfy the mask condition\n",
    "a2_copy.loc[mask, 'precip_accum'] = 0\n",
    "\n",
    "# Update the value of a2 to the modified copy\n",
    "a2 = a2_copy\n",
    "\n",
    "# Calculate the difference between the maximum value of 'precip_accum' and the previous value\n",
    "a2['precip_accum'] = a2['precip_accum'].cummax().diff()\n"
   ]
  },
  {
   "cell_type": "markdown",
   "metadata": {},
   "source": [
    "## Generate SW from MetSim"
   ]
  },
  {
   "cell_type": "code",
   "execution_count": 6,
   "metadata": {},
   "outputs": [],
   "source": [
    "dates = pd.date_range('10/1/2023', '4/1/2024')\n",
    "shape = (len(dates), 1, 1, )\n",
    "dims = ('time', 'lat', 'lon', )\n",
    "\n",
    "# We are running only one site, at these coordinates\n",
    "lats = [a1.attrs['latitude']]\n",
    "lons = [a1.attrs['longitude']]\n",
    "elev = [a1.attrs['ELEVATION']/3.281] # meters\n",
    "coords = {'time': dates, 'lat': lats, 'lon': lons}\n",
    "\n",
    "# Create the initial met data input data structure\n",
    "met_data = xr.Dataset(coords=coords)\n",
    "\n",
    "# Initialize data array with needed variables\n",
    "for varname in ['prec', 't_min', 't_max']:\n",
    "    met_data[varname] = xr.DataArray(data=np.full(shape, np.nan),\n",
    "                                     coords=coords, dims=dims,\n",
    "                                     name=varname)"
   ]
  },
  {
   "cell_type": "code",
   "execution_count": 7,
   "metadata": {},
   "outputs": [
    {
     "ename": "KeyError",
     "evalue": "'accppt'",
     "output_type": "error",
     "traceback": [
      "\u001b[0;31m---------------------------------------------------------------------------\u001b[0m",
      "\u001b[0;31mKeyError\u001b[0m                                  Traceback (most recent call last)",
      "File \u001b[0;32m~/miniconda3/envs/env1/lib/python3.12/site-packages/pandas/core/indexes/base.py:3805\u001b[0m, in \u001b[0;36mIndex.get_loc\u001b[0;34m(self, key)\u001b[0m\n\u001b[1;32m   3804\u001b[0m \u001b[38;5;28;01mtry\u001b[39;00m:\n\u001b[0;32m-> 3805\u001b[0m     \u001b[38;5;28;01mreturn\u001b[39;00m \u001b[38;5;28;43mself\u001b[39;49m\u001b[38;5;241;43m.\u001b[39;49m\u001b[43m_engine\u001b[49m\u001b[38;5;241;43m.\u001b[39;49m\u001b[43mget_loc\u001b[49m\u001b[43m(\u001b[49m\u001b[43mcasted_key\u001b[49m\u001b[43m)\u001b[49m\n\u001b[1;32m   3806\u001b[0m \u001b[38;5;28;01mexcept\u001b[39;00m \u001b[38;5;167;01mKeyError\u001b[39;00m \u001b[38;5;28;01mas\u001b[39;00m err:\n",
      "File \u001b[0;32mindex.pyx:167\u001b[0m, in \u001b[0;36mpandas._libs.index.IndexEngine.get_loc\u001b[0;34m()\u001b[0m\n",
      "File \u001b[0;32mindex.pyx:196\u001b[0m, in \u001b[0;36mpandas._libs.index.IndexEngine.get_loc\u001b[0;34m()\u001b[0m\n",
      "File \u001b[0;32mpandas/_libs/hashtable_class_helper.pxi:7081\u001b[0m, in \u001b[0;36mpandas._libs.hashtable.PyObjectHashTable.get_item\u001b[0;34m()\u001b[0m\n",
      "File \u001b[0;32mpandas/_libs/hashtable_class_helper.pxi:7089\u001b[0m, in \u001b[0;36mpandas._libs.hashtable.PyObjectHashTable.get_item\u001b[0;34m()\u001b[0m\n",
      "\u001b[0;31mKeyError\u001b[0m: 'accppt'",
      "\nThe above exception was the direct cause of the following exception:\n",
      "\u001b[0;31mKeyError\u001b[0m                                  Traceback (most recent call last)",
      "Cell \u001b[0;32mIn[7], line 14\u001b[0m\n\u001b[1;32m      1\u001b[0m \u001b[38;5;66;03m# data = pd.read_csv('./salmon_cleaned_WY23.csv')\u001b[39;00m\n\u001b[1;32m      2\u001b[0m \u001b[38;5;66;03m# data = data[data['Date_Time'] < '2023-09-01'] \u001b[39;00m\n\u001b[1;32m      3\u001b[0m \u001b[38;5;66;03m# data['air_temp_set_1'] = data['air_temp_set_1'].interpolate(method='linear')\u001b[39;00m\n\u001b[0;32m   (...)\u001b[0m\n\u001b[1;32m     11\u001b[0m \u001b[38;5;66;03m# Set the 'datetime' column as the index of the dataframe\u001b[39;00m\n\u001b[1;32m     12\u001b[0m \u001b[38;5;66;03m# data.set_index('time', inplace=True)\u001b[39;00m\n\u001b[0;32m---> 14\u001b[0m prec_vals \u001b[38;5;241m=\u001b[39m \u001b[43ma2\u001b[49m\u001b[43m[\u001b[49m\u001b[38;5;124;43m'\u001b[39;49m\u001b[38;5;124;43maccppt\u001b[39;49m\u001b[38;5;124;43m'\u001b[39;49m\u001b[43m]\u001b[49m\u001b[38;5;241m.\u001b[39mresample(\u001b[38;5;124m'\u001b[39m\u001b[38;5;124mD\u001b[39m\u001b[38;5;124m'\u001b[39m)\u001b[38;5;241m.\u001b[39msum()\n\u001b[1;32m     15\u001b[0m \u001b[38;5;28mprint\u001b[39m(prec_vals\u001b[38;5;241m.\u001b[39mmax())\n\u001b[1;32m     17\u001b[0m \u001b[38;5;66;03m# Resample the data to daily frequency and calculate the maximum and minimum temperatures\u001b[39;00m\n",
      "File \u001b[0;32m~/miniconda3/envs/env1/lib/python3.12/site-packages/pandas/core/frame.py:4102\u001b[0m, in \u001b[0;36mDataFrame.__getitem__\u001b[0;34m(self, key)\u001b[0m\n\u001b[1;32m   4100\u001b[0m \u001b[38;5;28;01mif\u001b[39;00m \u001b[38;5;28mself\u001b[39m\u001b[38;5;241m.\u001b[39mcolumns\u001b[38;5;241m.\u001b[39mnlevels \u001b[38;5;241m>\u001b[39m \u001b[38;5;241m1\u001b[39m:\n\u001b[1;32m   4101\u001b[0m     \u001b[38;5;28;01mreturn\u001b[39;00m \u001b[38;5;28mself\u001b[39m\u001b[38;5;241m.\u001b[39m_getitem_multilevel(key)\n\u001b[0;32m-> 4102\u001b[0m indexer \u001b[38;5;241m=\u001b[39m \u001b[38;5;28;43mself\u001b[39;49m\u001b[38;5;241;43m.\u001b[39;49m\u001b[43mcolumns\u001b[49m\u001b[38;5;241;43m.\u001b[39;49m\u001b[43mget_loc\u001b[49m\u001b[43m(\u001b[49m\u001b[43mkey\u001b[49m\u001b[43m)\u001b[49m\n\u001b[1;32m   4103\u001b[0m \u001b[38;5;28;01mif\u001b[39;00m is_integer(indexer):\n\u001b[1;32m   4104\u001b[0m     indexer \u001b[38;5;241m=\u001b[39m [indexer]\n",
      "File \u001b[0;32m~/miniconda3/envs/env1/lib/python3.12/site-packages/pandas/core/indexes/base.py:3812\u001b[0m, in \u001b[0;36mIndex.get_loc\u001b[0;34m(self, key)\u001b[0m\n\u001b[1;32m   3807\u001b[0m     \u001b[38;5;28;01mif\u001b[39;00m \u001b[38;5;28misinstance\u001b[39m(casted_key, \u001b[38;5;28mslice\u001b[39m) \u001b[38;5;129;01mor\u001b[39;00m (\n\u001b[1;32m   3808\u001b[0m         \u001b[38;5;28misinstance\u001b[39m(casted_key, abc\u001b[38;5;241m.\u001b[39mIterable)\n\u001b[1;32m   3809\u001b[0m         \u001b[38;5;129;01mand\u001b[39;00m \u001b[38;5;28many\u001b[39m(\u001b[38;5;28misinstance\u001b[39m(x, \u001b[38;5;28mslice\u001b[39m) \u001b[38;5;28;01mfor\u001b[39;00m x \u001b[38;5;129;01min\u001b[39;00m casted_key)\n\u001b[1;32m   3810\u001b[0m     ):\n\u001b[1;32m   3811\u001b[0m         \u001b[38;5;28;01mraise\u001b[39;00m InvalidIndexError(key)\n\u001b[0;32m-> 3812\u001b[0m     \u001b[38;5;28;01mraise\u001b[39;00m \u001b[38;5;167;01mKeyError\u001b[39;00m(key) \u001b[38;5;28;01mfrom\u001b[39;00m \u001b[38;5;21;01merr\u001b[39;00m\n\u001b[1;32m   3813\u001b[0m \u001b[38;5;28;01mexcept\u001b[39;00m \u001b[38;5;167;01mTypeError\u001b[39;00m:\n\u001b[1;32m   3814\u001b[0m     \u001b[38;5;66;03m# If we have a listlike key, _check_indexing_error will raise\u001b[39;00m\n\u001b[1;32m   3815\u001b[0m     \u001b[38;5;66;03m#  InvalidIndexError. Otherwise we fall through and re-raise\u001b[39;00m\n\u001b[1;32m   3816\u001b[0m     \u001b[38;5;66;03m#  the TypeError.\u001b[39;00m\n\u001b[1;32m   3817\u001b[0m     \u001b[38;5;28mself\u001b[39m\u001b[38;5;241m.\u001b[39m_check_indexing_error(key)\n",
      "\u001b[0;31mKeyError\u001b[0m: 'accppt'"
     ]
    }
   ],
   "source": [
    "# data = pd.read_csv('./salmon_cleaned_WY23.csv')\n",
    "# data = data[data['Date_Time'] < '2023-09-01'] \n",
    "# data['air_temp_set_1'] = data['air_temp_set_1'].interpolate(method='linear')\n",
    "# data['precip_accum_set_1'] = data['precip_accum_set_1'].interpolate(method='linear')\n",
    "# data.loc[data['precip_accum_set_1'] > 1100, 'precip_accum_set_1'] = 0\n",
    "\n",
    "# data['time'] = pd.to_datetime(data.time)\n",
    "\n",
    "# data['precip_accum_set_1'] = data['precip_accum_set_1'].cummax()\n",
    "\n",
    "# Set the 'datetime' column as the index of the dataframe\n",
    "# data.set_index('time', inplace=True)\n",
    "\n",
    "prec_vals = a2['accppt'].resample('D').sum()\n",
    "print(prec_vals.max())\n",
    "\n",
    "# Resample the data to daily frequency and calculate the maximum and minimum temperatures\n",
    "tmax_vals = data['airtemp'].resample('D').max()\n",
    "tmin_vals = data['airtemp'].resample('D').min()\n",
    "\n",
    "# Interpolate the temperature values to fill in any missing days\n",
    "tmax_vals = tmax_vals.interpolate(method='linear')\n",
    "tmin_vals = tmin_vals.interpolate(method='linear')\n",
    "\n",
    "met_data['prec'].values[:, 0, 0] = prec_vals\n",
    "\n",
    "# Assign the daily maximum and minimum temperatures to the met_data xarray, converting to Celsius\n",
    "met_data['t_min'].values[:, 0, 0] = tmin_vals - 273.15\n",
    "met_data['t_max'].values[:, 0, 0] = tmax_vals - 273.15\n",
    "\n",
    "# met_data.to_netcdf('./input/rc_forcing.nc')\n",
    "met_data"
   ]
  },
  {
   "cell_type": "code",
   "execution_count": 8,
   "metadata": {},
   "outputs": [
    {
     "data": {
      "text/html": [
       "<div>\n",
       "<style scoped>\n",
       "    .dataframe tbody tr th:only-of-type {\n",
       "        vertical-align: middle;\n",
       "    }\n",
       "\n",
       "    .dataframe tbody tr th {\n",
       "        vertical-align: top;\n",
       "    }\n",
       "\n",
       "    .dataframe thead th {\n",
       "        text-align: right;\n",
       "    }\n",
       "</style>\n",
       "<table border=\"1\" class=\"dataframe\">\n",
       "  <thead>\n",
       "    <tr style=\"text-align: right;\">\n",
       "      <th></th>\n",
       "      <th>air_temp</th>\n",
       "      <th>precip_accum</th>\n",
       "      <th>snow_water_equiv</th>\n",
       "    </tr>\n",
       "    <tr>\n",
       "      <th>date_time</th>\n",
       "      <th></th>\n",
       "      <th></th>\n",
       "      <th></th>\n",
       "    </tr>\n",
       "  </thead>\n",
       "  <tbody>\n",
       "    <tr>\n",
       "      <th>2023-10-01 00:00:00+00:00</th>\n",
       "      <td>9.4</td>\n",
       "      <td>NaN</td>\n",
       "      <td>5.08</td>\n",
       "    </tr>\n",
       "    <tr>\n",
       "      <th>2023-10-01 01:00:00+00:00</th>\n",
       "      <td>7.8</td>\n",
       "      <td>0.0</td>\n",
       "      <td>5.08</td>\n",
       "    </tr>\n",
       "    <tr>\n",
       "      <th>2023-10-01 02:00:00+00:00</th>\n",
       "      <td>4.9</td>\n",
       "      <td>0.0</td>\n",
       "      <td>5.08</td>\n",
       "    </tr>\n",
       "    <tr>\n",
       "      <th>2023-10-01 03:00:00+00:00</th>\n",
       "      <td>6.1</td>\n",
       "      <td>0.0</td>\n",
       "      <td>5.08</td>\n",
       "    </tr>\n",
       "    <tr>\n",
       "      <th>2023-10-01 04:00:00+00:00</th>\n",
       "      <td>5.8</td>\n",
       "      <td>0.0</td>\n",
       "      <td>5.08</td>\n",
       "    </tr>\n",
       "    <tr>\n",
       "      <th>...</th>\n",
       "      <td>...</td>\n",
       "      <td>...</td>\n",
       "      <td>...</td>\n",
       "    </tr>\n",
       "    <tr>\n",
       "      <th>2024-03-31 20:00:00+00:00</th>\n",
       "      <td>6.4</td>\n",
       "      <td>0.0</td>\n",
       "      <td>170.18</td>\n",
       "    </tr>\n",
       "    <tr>\n",
       "      <th>2024-03-31 21:00:00+00:00</th>\n",
       "      <td>7.6</td>\n",
       "      <td>0.0</td>\n",
       "      <td>167.64</td>\n",
       "    </tr>\n",
       "    <tr>\n",
       "      <th>2024-03-31 22:00:00+00:00</th>\n",
       "      <td>9.1</td>\n",
       "      <td>0.0</td>\n",
       "      <td>167.64</td>\n",
       "    </tr>\n",
       "    <tr>\n",
       "      <th>2024-03-31 23:00:00+00:00</th>\n",
       "      <td>9.8</td>\n",
       "      <td>0.0</td>\n",
       "      <td>167.64</td>\n",
       "    </tr>\n",
       "    <tr>\n",
       "      <th>2024-04-01 00:00:00+00:00</th>\n",
       "      <td>7.8</td>\n",
       "      <td>0.0</td>\n",
       "      <td>167.64</td>\n",
       "    </tr>\n",
       "  </tbody>\n",
       "</table>\n",
       "<p>4389 rows × 3 columns</p>\n",
       "</div>"
      ],
      "text/plain": [
       "                           air_temp  precip_accum  snow_water_equiv\n",
       "date_time                                                          \n",
       "2023-10-01 00:00:00+00:00       9.4           NaN              5.08\n",
       "2023-10-01 01:00:00+00:00       7.8           0.0              5.08\n",
       "2023-10-01 02:00:00+00:00       4.9           0.0              5.08\n",
       "2023-10-01 03:00:00+00:00       6.1           0.0              5.08\n",
       "2023-10-01 04:00:00+00:00       5.8           0.0              5.08\n",
       "...                             ...           ...               ...\n",
       "2024-03-31 20:00:00+00:00       6.4           0.0            170.18\n",
       "2024-03-31 21:00:00+00:00       7.6           0.0            167.64\n",
       "2024-03-31 22:00:00+00:00       9.1           0.0            167.64\n",
       "2024-03-31 23:00:00+00:00       9.8           0.0            167.64\n",
       "2024-04-01 00:00:00+00:00       7.8           0.0            167.64\n",
       "\n",
       "[4389 rows x 3 columns]"
      ]
     },
     "execution_count": 8,
     "metadata": {},
     "output_type": "execute_result"
    }
   ],
   "source": [
    "a2"
   ]
  },
  {
   "cell_type": "code",
   "execution_count": null,
   "metadata": {},
   "outputs": [],
   "source": []
  }
 ],
 "metadata": {
  "kernelspec": {
   "display_name": "env1",
   "language": "python",
   "name": "python3"
  },
  "language_info": {
   "codemirror_mode": {
    "name": "ipython",
    "version": 3
   },
   "file_extension": ".py",
   "mimetype": "text/x-python",
   "name": "python",
   "nbconvert_exporter": "python",
   "pygments_lexer": "ipython3",
   "version": "3.12.2"
  }
 },
 "nbformat": 4,
 "nbformat_minor": 2
}
