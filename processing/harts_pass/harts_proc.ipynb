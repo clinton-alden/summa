{
 "cells": [
  {
   "cell_type": "code",
   "execution_count": 47,
   "metadata": {},
   "outputs": [],
   "source": [
    "import pandas as pd\n",
    "import matplotlib.pyplot as plt\n",
    "import numpy as np\n",
    "import xarray as xr\n",
    "import scipy\n",
    "from metpy.units import units\n",
    "import metpy.calc as mpcalc\n",
    "import math\n",
    "import datetime as dt\n",
    "\n",
    "import sys\n",
    "sys.path.append('/Users/clintonalden/Documents/Research/summa_work/')\n",
    "from utils import lw_clr\n",
    "from utils import forcing_filler as ff\n"
   ]
  },
  {
   "cell_type": "code",
   "execution_count": 48,
   "metadata": {},
   "outputs": [
    {
     "data": {
      "text/plain": [
       "498.51"
      ]
     },
     "execution_count": 48,
     "metadata": {},
     "output_type": "execute_result"
    }
   ],
   "source": [
    "# Read in csv data from Harts Pass SNOTEL\n",
    "# Subset after October 17 as the data is poor before then\n",
    "harts = pd.read_csv('hrpw1_WY24.csv', skiprows=10)\n",
    "harts = harts[harts['Date_Time'] > '2023-10-17'] \n",
    "\n",
    "# Load template forcing file with correct attributes\n",
    "template = xr.open_dataset('../summa_forcing_template.nc')\n",
    "\n",
    "# Pull in only necessary columns and rename to match SUMMA formatting\n",
    "harts = harts[['Date_Time', 'air_temp_set_1', 'wind_speed_set_1', 'solar_radiation_set_1', 'precip_accum_set_1']]\n",
    "replace = {'air_temp_set_1':'airtemp','wind_speed_set_1':'windspd', 'solar_radiation_set_1':'SWRadAtm', \n",
    "           'precip_accum_set_1':'accppt', 'Date_Time':'time'}\n",
    "harts.rename(columns=replace, inplace=True)\n",
    "\n",
    "\n",
    "# Convert 'time' column to datetime format\n",
    "harts['time'] = pd.to_datetime(harts['time'])\n",
    "\n",
    "# Convert time column to desired format\n",
    "harts['time'] = harts['time'].dt.strftime('%Y-%m-%d %H:%M:%S')\n",
    "\n",
    "# Use cummax to fix the issues with SNOTEL hourly data\n",
    "harts['accppt'] = harts['accppt'].cummax()\n",
    "\n",
    "# Convert precip from mm hr-1 to kg m-2 s-1\n",
    "harts['pptrate'] = harts['accppt'].diff()/3600\n",
    "\n",
    "# Generate relative humidity assuming T_d is overnight low temperature\n",
    "ff.fill_rel_hum(harts)\n",
    "\n",
    "# Convert temperature from C to K\n",
    "harts['airtemp'] = harts['airtemp'] + 273.15\n",
    "\n",
    "# Set NaN SW radiation values to 0\n",
    "harts['SWRadAtm'] = harts['SWRadAtm'].fillna(0)\n",
    "\n",
    "# Pyranometer at Harts Pass looks biased low by 3.81 W m-2, adding to fix\n",
    "harts['SWRadAtm'] = harts['SWRadAtm'] + 3.81\n",
    "\n",
    "# Set NaN precip values to 0\n",
    "harts['pptrate'] = harts['pptrate'].fillna(0)\n",
    "\n",
    "# Generate pressure from hypsometric equation and site elevation (1981m)\n",
    "ff.fill_pressure(harts, 1981)\n",
    "\n",
    "# Generate specific humidity\n",
    "ff.fill_spec_hum(harts)\n",
    "\n",
    "# Generate longwave radiation\n",
    "harts['LWRadAtm'] = lw_clr.dilleyobrien1998(harts['airtemp'], harts['rh'])\n",
    "\n",
    "# Drop unnecessary columns\n",
    "harts = harts.drop(columns=['accppt', 'rh'])\n",
    "\n",
    "# Set time as index\n",
    "harts.set_index('time', inplace=True)\n",
    "harts.index = pd.to_datetime(harts.index)\n",
    "\n",
    "harts.SWRadAtm.max()\n",
    "\n"
   ]
  },
  {
   "cell_type": "code",
   "execution_count": 49,
   "metadata": {},
   "outputs": [
    {
     "name": "stdout",
     "output_type": "stream",
     "text": [
      "airtemp 0\n",
      "windspd 1\n",
      "SWRadAtm 2\n",
      "pptrate 3\n",
      "airpres 4\n",
      "spechum 5\n",
      "LWRadAtm 6\n",
      "gap_filled 7\n",
      "data_step 8\n"
     ]
    }
   ],
   "source": [
    "# Convert dataframe to xarray\n",
    "dsx = harts.to_xarray()\n",
    "\n",
    "# Loop through variables and add attributes from template forcing file\n",
    "for data_var in dsx:\n",
    "    dsx[data_var].attrs = template[data_var].attrs\n",
    "    \n",
    "# Add hru dimension\n",
    "dsx = dsx.expand_dims(dim={'hru':1})\n",
    "\n",
    "# Add gap-filled and datastep variables\n",
    "dsx['gap_filled'] = xr.DataArray(np.ones((1,dsx.time.shape[0])),dims = ['hru','time'])\n",
    "dsx['data_step'] = 3600 # 3600 seconds for 1hr timesteps\n",
    "\n",
    "# Transpose gap filled variable to match dimensions with the rest\n",
    "# dsx['gap_filled'] = dsx['gap_filled'].T\n",
    "\n",
    "# Convert all to float64\n",
    "for var in dsx.data_vars:\n",
    "    dsx[var] = dsx[var].astype(np.float64)\n",
    "\n",
    "# Transpose all variables to match SUMMA dimensions\n",
    "count = 0\n",
    "for var in dsx.data_vars:\n",
    "    print(var,count)\n",
    "    count += 1\n",
    "    if count <= 7:\n",
    "        attribs = dsx[var].attrs\n",
    "        arr_t = dsx[var].values.T\n",
    "        dsx[var] = xr.DataArray(dims = ['time','hru'],data = arr_t)\n",
    "        dsx[var].attrs = attribs\n",
    "    \n",
    "# Set hruID based on template\n",
    "dsx.to_netcdf('./harts_SNTL_WY24.nc',\n",
    "              engine='h5netcdf')\n"
   ]
  },
  {
   "cell_type": "code",
   "execution_count": 50,
   "metadata": {},
   "outputs": [
    {
     "data": {
      "text/plain": [
       "<Axes: xlabel='time'>"
      ]
     },
     "execution_count": 50,
     "metadata": {},
     "output_type": "execute_result"
    },
    {
     "data": {
      "image/png": "[encoded data removed]",
      "text/plain": [
       "<Figure size 640x480 with 1 Axes>"
      ]
     },
     "metadata": {},
     "output_type": "display_data"
    }
   ],
   "source": [
    "harts['pptrate'].plot()\n"
   ]
  },
  {
   "cell_type": "code",
   "execution_count": null,
   "metadata": {},
   "outputs": [],
   "source": []
  }
 ],
 "metadata": {
  "kernelspec": {
   "display_name": "env1",
   "language": "python",
   "name": "python3"
  },
  "language_info": {
   "codemirror_mode": {
    "name": "ipython",
    "version": 3
   },
   "file_extension": ".py",
   "mimetype": "text/x-python",
   "name": "python",
   "nbconvert_exporter": "python",
   "pygments_lexer": "ipython3",
   "version": "3.12.2"
  }
 },
 "nbformat": 4,
 "nbformat_minor": 2
}
