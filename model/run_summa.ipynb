{
 "cells": [
  {
   "cell_type": "code",
   "execution_count": null,
   "metadata": {},
   "outputs": [],
   "source": [
    "import xarray as xr\n",
    "import numpy as np\n",
    "import pandas as pd\n",
    "import matplotlib.pyplot as plt\n",
    "import pysumma as ps\n",
    "import pysumma.plotting as psp"
   ]
  },
  {
   "cell_type": "code",
   "execution_count": null,
   "metadata": {},
   "outputs": [],
   "source": [
    "executable = 'summa.exe'\n",
    "filemanager = '/home/cdalden/summa_setup/settings/file_manager_summa.txt'\n",
    "\n",
    "# Create a pySUMMA simulation object\n",
    "s = ps.Simulation(executable, filemanager)\n",
    "\n",
    "# Set the simulation start and finish times\n",
    "# If running for different shorter period than forcing file\n",
    "start = '2022-11-01 00:00'\n",
    "end = '2023-04-01 00:00'\n",
    "# s.manager['simStartTime'] = start\n",
    "# s.manager['simEndTime'] = end\n",
    "\n",
    "# Add in some additional variables so we can demonstrate plotting capabilities\n",
    "output_settings = {'period': 1, 'instant': 1, 'sum': 0, \n",
    "              'mean': 0, 'variance': 0, 'min': 0, 'max': 0}\n",
    "layer_vars = ['mLayerTemp', 'mLayerDepth', 'mLayerHeight',\n",
    "              'mLayerLiqFluxSoil', 'mLayerVolFracIce', 'mLayerVolFracLiq', \n",
    "              'mLayerVolFracWat','mLayerMatricHead', 'iLayerHeight', 'scalarSnowDepth', 'nSnow']\n",
    "\n",
    "# Create the new variables\n",
    "for var in layer_vars:\n",
    "    s.output_control[var] = output_settings\n",
    "\n",
    "# Ensure all variables have the same statistics\n",
    "all_vars = set(layer_vars + [o.name for o in s.output_control.options])\n",
    "for var in all_vars:\n",
    "    s.output_control[var] = output_settings\n",
    "\n",
    "# Run the model, specify the output suffix\n",
    "s.run('local', run_suffix='tilden_1_5mswind')"
   ]
  },
  {
   "cell_type": "code",
   "execution_count": null,
   "metadata": {},
   "outputs": [],
   "source": []
  }
 ],
 "metadata": {
  "language_info": {
   "name": "python"
  }
 },
 "nbformat": 4,
 "nbformat_minor": 2
}
